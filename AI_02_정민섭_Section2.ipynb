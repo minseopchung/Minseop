{
  "nbformat": 4,
  "nbformat_minor": 0,
  "metadata": {
    "colab": {
      "name": "Untitled8_(1) (4).ipynb",
      "provenance": []
    },
    "kernelspec": {
      "name": "python3",
      "display_name": "Python 3"
    },
    "language_info": {
      "name": "python"
    }
  },
  "cells": [
    {
      "cell_type": "markdown",
      "metadata": {
        "id": "HyNeNB7biVuw"
      },
      "source": [
        "\n",
        "# **Machine Learning project** \n",
        "데이터셋을 사용해서 만든 머신러닝의 예측 모델을 통한 성능 및 인사이트를 도출\n",
        "\n",
        "---\n",
        "\n",
        "# **🏆 Hypothesis of project**\n",
        "\n",
        "##**멜버른 부동산가격은 부동산의 위치보다 부동산의 크기에 더 영향을 받는다**\n"
      ]
    },
    {
      "cell_type": "markdown",
      "metadata": {
        "id": "9JMcMPaUmy8Z"
      },
      "source": [
        "## **데이터 선정 이유 및 문제 정의**\n",
        "데이터 : Melbourne housing clearance data from Jan 2016 to 2018\n",
        "\n",
        "링크 : https://www.kaggle.com/anthonypino/melbourne-housing-market?select=Melbourne_housing_FULL.csv\n",
        "\n",
        "데이터 선정 이유 : 어떠한 특성들이 타겟에 영향을 주는지, 예측이 어떻게 되는지를 머신러닝을 이용하면 잘 도출 할 수 있다는걸 증명하기 좋은 데이터라고 생각.\n",
        "\n",
        "문제 유형 : 회귀\n",
        "\n",
        "## **데이터의 타겟, 평가지표, 베이스라인 선택**\n",
        "\n",
        "타겟: Price (집값이 어떤 것에 영향을 받고, 앞으로의 집값 예측을 알아보기 위해 타겟 선정)\n",
        "\n",
        "베이스 라인 모델 : Price의 평균\n",
        "\n",
        "평가지표: RMSE\n",
        "\n",
        "\n",
        "###**Features**\n",
        "\n",
        "Price: Price in dollars\n",
        "\n",
        "Rooms: Number of rooms\n",
        "\n",
        "Method: S - property sold; SP - property sold prior; PI - property passed in; PN - sold prior not disclosed; SN - sold not disclosed; NB - no bid; VB - vendor bid; W - withdrawn prior to auction; SA - sold after auction; SS - sold after auction price not disclosed. N/A - price or highest bid not available.\n",
        "\n",
        "Type: br - bedroom(s); h - house,cottage,villa, semi,terrace; u - unit, duplex; t - townhouse; dev site - development site; o res - other residential.\n",
        "\n",
        "SellerG: Real Estate Agent\n",
        "\n",
        "Date: Date sold\n",
        "\n",
        "Distance: Distance from CBD\n",
        "\n",
        "Regionname: General Region (West, North West, North, North east …etc)\n",
        "\n",
        "Propertycount: Number of properties that exist in the suburb.\n",
        "\n",
        "Bedroom2 : Scraped # of Bedrooms (from different source)\n",
        "\n",
        "Bathroom: Number of Bathrooms\n",
        "\n",
        "Car: Number of carspots\n",
        "\n",
        "Landsize: Land Size\n",
        "\n",
        "BuildingArea: Building Size\n",
        "\n",
        "CouncilArea: Governing council for the area\n"
      ]
    },
    {
      "cell_type": "code",
      "metadata": {
        "id": "6Db7Pkji465k"
      },
      "source": [
        "#!pip install pandas-profiling==2.*"
      ],
      "execution_count": 9,
      "outputs": []
    },
    {
      "cell_type": "code",
      "metadata": {
        "id": "3q8xxMLBiRdK"
      },
      "source": [
        "import pandas as pd\n",
        "import numpy as  np\n",
        "import matplotlib.pyplot as plt\n",
        "%matplotlib inline\n",
        "import seaborn as sns\n",
        "import sklearn\n",
        "from sklearn.model_selection import train_test_split\n",
        "from sklearn.linear_model import LinearRegression\n",
        "from sklearn.ensemble import RandomForestRegressor\n",
        "from sklearn.tree import DecisionTreeRegressor\n",
        "from sklearn.model_selection import RandomizedSearchCV\n",
        "from sklearn.model_selection import GridSearchCV\n",
        "from sklearn.linear_model import LinearRegression\n",
        "from sklearn.preprocessing import RobustScaler\n",
        "from sklearn.model_selection import cross_val_predict\n",
        "from sklearn.model_selection import cross_val_score\n",
        "from sklearn.model_selection import cross_validate"
      ],
      "execution_count": 10,
      "outputs": []
    },
    {
      "cell_type": "markdown",
      "metadata": {
        "id": "5lOms8JldWEE"
      },
      "source": [
        ".\n",
        "\n",
        "\n",
        "\n",
        "\n",
        "\n",
        "\n",
        "\n",
        "\n",
        "\n",
        "\n",
        "\n",
        "#**1. 데이터 훑어보기**\n",
        "\n"
      ]
    },
    {
      "cell_type": "code",
      "metadata": {
        "id": "kpSwe8AlhL_g"
      },
      "source": [
        "# 로컬에서 데이터 업로드\n",
        "#from google.colab import files\n",
        "#myfile = files.upload()"
      ],
      "execution_count": 11,
      "outputs": []
    },
    {
      "cell_type": "code",
      "metadata": {
        "id": "9e7fXnC64vmN"
      },
      "source": [
        "# csv로 데이터 불러오기\n",
        "df= pd.read_csv(\"Melbourne_housing_FULL.csv\")"
      ],
      "execution_count": 12,
      "outputs": []
    },
    {
      "cell_type": "code",
      "metadata": {
        "colab": {
          "base_uri": "https://localhost:8080/",
          "height": 197
        },
        "id": "7ljQvtv84YcU",
        "outputId": "ffb047b9-2ef4-4f3a-84c2-3241d55dd006"
      },
      "source": [
        "df.head()"
      ],
      "execution_count": 13,
      "outputs": [
        {
          "output_type": "execute_result",
          "data": {
            "text/html": [
              "<div>\n",
              "<style scoped>\n",
              "    .dataframe tbody tr th:only-of-type {\n",
              "        vertical-align: middle;\n",
              "    }\n",
              "\n",
              "    .dataframe tbody tr th {\n",
              "        vertical-align: top;\n",
              "    }\n",
              "\n",
              "    .dataframe thead th {\n",
              "        text-align: right;\n",
              "    }\n",
              "</style>\n",
              "<table border=\"1\" class=\"dataframe\">\n",
              "  <thead>\n",
              "    <tr style=\"text-align: right;\">\n",
              "      <th></th>\n",
              "      <th>Suburb</th>\n",
              "      <th>Address</th>\n",
              "      <th>Rooms</th>\n",
              "      <th>Type</th>\n",
              "      <th>Price</th>\n",
              "      <th>Method</th>\n",
              "      <th>SellerG</th>\n",
              "      <th>Date</th>\n",
              "      <th>Distance</th>\n",
              "      <th>Postcode</th>\n",
              "      <th>Bedroom2</th>\n",
              "      <th>Bathroom</th>\n",
              "      <th>Car</th>\n",
              "      <th>Landsize</th>\n",
              "      <th>BuildingArea</th>\n",
              "      <th>YearBuilt</th>\n",
              "      <th>CouncilArea</th>\n",
              "      <th>Lattitude</th>\n",
              "      <th>Longtitude</th>\n",
              "      <th>Regionname</th>\n",
              "      <th>Propertycount</th>\n",
              "    </tr>\n",
              "  </thead>\n",
              "  <tbody>\n",
              "    <tr>\n",
              "      <th>0</th>\n",
              "      <td>Abbotsford</td>\n",
              "      <td>68 Studley St</td>\n",
              "      <td>2</td>\n",
              "      <td>h</td>\n",
              "      <td>NaN</td>\n",
              "      <td>SS</td>\n",
              "      <td>Jellis</td>\n",
              "      <td>3/09/2016</td>\n",
              "      <td>2.5</td>\n",
              "      <td>3067.0</td>\n",
              "      <td>2.0</td>\n",
              "      <td>1.0</td>\n",
              "      <td>1.0</td>\n",
              "      <td>126.0</td>\n",
              "      <td>NaN</td>\n",
              "      <td>NaN</td>\n",
              "      <td>Yarra City Council</td>\n",
              "      <td>-37.8014</td>\n",
              "      <td>144.9958</td>\n",
              "      <td>Northern Metropolitan</td>\n",
              "      <td>4019.0</td>\n",
              "    </tr>\n",
              "    <tr>\n",
              "      <th>1</th>\n",
              "      <td>Abbotsford</td>\n",
              "      <td>85 Turner St</td>\n",
              "      <td>2</td>\n",
              "      <td>h</td>\n",
              "      <td>1480000.0</td>\n",
              "      <td>S</td>\n",
              "      <td>Biggin</td>\n",
              "      <td>3/12/2016</td>\n",
              "      <td>2.5</td>\n",
              "      <td>3067.0</td>\n",
              "      <td>2.0</td>\n",
              "      <td>1.0</td>\n",
              "      <td>1.0</td>\n",
              "      <td>202.0</td>\n",
              "      <td>NaN</td>\n",
              "      <td>NaN</td>\n",
              "      <td>Yarra City Council</td>\n",
              "      <td>-37.7996</td>\n",
              "      <td>144.9984</td>\n",
              "      <td>Northern Metropolitan</td>\n",
              "      <td>4019.0</td>\n",
              "    </tr>\n",
              "    <tr>\n",
              "      <th>2</th>\n",
              "      <td>Abbotsford</td>\n",
              "      <td>25 Bloomburg St</td>\n",
              "      <td>2</td>\n",
              "      <td>h</td>\n",
              "      <td>1035000.0</td>\n",
              "      <td>S</td>\n",
              "      <td>Biggin</td>\n",
              "      <td>4/02/2016</td>\n",
              "      <td>2.5</td>\n",
              "      <td>3067.0</td>\n",
              "      <td>2.0</td>\n",
              "      <td>1.0</td>\n",
              "      <td>0.0</td>\n",
              "      <td>156.0</td>\n",
              "      <td>79.0</td>\n",
              "      <td>1900.0</td>\n",
              "      <td>Yarra City Council</td>\n",
              "      <td>-37.8079</td>\n",
              "      <td>144.9934</td>\n",
              "      <td>Northern Metropolitan</td>\n",
              "      <td>4019.0</td>\n",
              "    </tr>\n",
              "    <tr>\n",
              "      <th>3</th>\n",
              "      <td>Abbotsford</td>\n",
              "      <td>18/659 Victoria St</td>\n",
              "      <td>3</td>\n",
              "      <td>u</td>\n",
              "      <td>NaN</td>\n",
              "      <td>VB</td>\n",
              "      <td>Rounds</td>\n",
              "      <td>4/02/2016</td>\n",
              "      <td>2.5</td>\n",
              "      <td>3067.0</td>\n",
              "      <td>3.0</td>\n",
              "      <td>2.0</td>\n",
              "      <td>1.0</td>\n",
              "      <td>0.0</td>\n",
              "      <td>NaN</td>\n",
              "      <td>NaN</td>\n",
              "      <td>Yarra City Council</td>\n",
              "      <td>-37.8114</td>\n",
              "      <td>145.0116</td>\n",
              "      <td>Northern Metropolitan</td>\n",
              "      <td>4019.0</td>\n",
              "    </tr>\n",
              "    <tr>\n",
              "      <th>4</th>\n",
              "      <td>Abbotsford</td>\n",
              "      <td>5 Charles St</td>\n",
              "      <td>3</td>\n",
              "      <td>h</td>\n",
              "      <td>1465000.0</td>\n",
              "      <td>SP</td>\n",
              "      <td>Biggin</td>\n",
              "      <td>4/03/2017</td>\n",
              "      <td>2.5</td>\n",
              "      <td>3067.0</td>\n",
              "      <td>3.0</td>\n",
              "      <td>2.0</td>\n",
              "      <td>0.0</td>\n",
              "      <td>134.0</td>\n",
              "      <td>150.0</td>\n",
              "      <td>1900.0</td>\n",
              "      <td>Yarra City Council</td>\n",
              "      <td>-37.8093</td>\n",
              "      <td>144.9944</td>\n",
              "      <td>Northern Metropolitan</td>\n",
              "      <td>4019.0</td>\n",
              "    </tr>\n",
              "  </tbody>\n",
              "</table>\n",
              "</div>"
            ],
            "text/plain": [
              "       Suburb             Address  ...             Regionname Propertycount\n",
              "0  Abbotsford       68 Studley St  ...  Northern Metropolitan        4019.0\n",
              "1  Abbotsford        85 Turner St  ...  Northern Metropolitan        4019.0\n",
              "2  Abbotsford     25 Bloomburg St  ...  Northern Metropolitan        4019.0\n",
              "3  Abbotsford  18/659 Victoria St  ...  Northern Metropolitan        4019.0\n",
              "4  Abbotsford        5 Charles St  ...  Northern Metropolitan        4019.0\n",
              "\n",
              "[5 rows x 21 columns]"
            ]
          },
          "metadata": {
            "tags": []
          },
          "execution_count": 13
        }
      ]
    },
    {
      "cell_type": "code",
      "metadata": {
        "colab": {
          "base_uri": "https://localhost:8080/"
        },
        "id": "7k623l3QwvxM",
        "outputId": "6f371c98-eeda-47cc-b4f5-bf86be8205e3"
      },
      "source": [
        "df.shape"
      ],
      "execution_count": 14,
      "outputs": [
        {
          "output_type": "execute_result",
          "data": {
            "text/plain": [
              "(34857, 21)"
            ]
          },
          "metadata": {
            "tags": []
          },
          "execution_count": 14
        }
      ]
    },
    {
      "cell_type": "code",
      "metadata": {
        "id": "-9Fkem5ysJX0"
      },
      "source": [
        "# 프로파일링\n",
        "\n",
        "#from pandas_profiling import ProfileReport\n",
        "#ProfileReport(df)"
      ],
      "execution_count": 15,
      "outputs": []
    },
    {
      "cell_type": "code",
      "metadata": {
        "id": "0vKGS32bLJsI"
      },
      "source": [
        "# Rooms와 Bedroom2의 correlation이 너무 높음. 같은 데이터라고 봐도 무방하기 때문에 Bedroom2 feature를 제거\n",
        "df=df.drop(axis=1,columns='Bedroom2')\n",
        "\n",
        "# Postcode는 숫자이지만 범주형 데이터이기 때문에 결측지 처리 후 object로 바꿈.\n",
        "\n",
        "# Date는 datetime 유형으로 전처리 이후에 바꾸기 feature engineering을 위해서\n",
        "\n",
        "# Bathroom ,Car, Yearbuilt,Bedroom2는 float이 아니라 integer여야 함 (결측지 처리 후 실행)"
      ],
      "execution_count": 16,
      "outputs": []
    },
    {
      "cell_type": "code",
      "metadata": {
        "colab": {
          "base_uri": "https://localhost:8080/",
          "height": 286
        },
        "id": "HfC6J6o6V09z",
        "outputId": "52c5543e-bfab-4a67-d857-09fbda3416a4"
      },
      "source": [
        "# 요약 통계\n",
        "df.describe()"
      ],
      "execution_count": 17,
      "outputs": [
        {
          "output_type": "execute_result",
          "data": {
            "text/html": [
              "<div>\n",
              "<style scoped>\n",
              "    .dataframe tbody tr th:only-of-type {\n",
              "        vertical-align: middle;\n",
              "    }\n",
              "\n",
              "    .dataframe tbody tr th {\n",
              "        vertical-align: top;\n",
              "    }\n",
              "\n",
              "    .dataframe thead th {\n",
              "        text-align: right;\n",
              "    }\n",
              "</style>\n",
              "<table border=\"1\" class=\"dataframe\">\n",
              "  <thead>\n",
              "    <tr style=\"text-align: right;\">\n",
              "      <th></th>\n",
              "      <th>Rooms</th>\n",
              "      <th>Price</th>\n",
              "      <th>Distance</th>\n",
              "      <th>Postcode</th>\n",
              "      <th>Bathroom</th>\n",
              "      <th>Car</th>\n",
              "      <th>Landsize</th>\n",
              "      <th>BuildingArea</th>\n",
              "      <th>YearBuilt</th>\n",
              "      <th>Lattitude</th>\n",
              "      <th>Longtitude</th>\n",
              "      <th>Propertycount</th>\n",
              "    </tr>\n",
              "  </thead>\n",
              "  <tbody>\n",
              "    <tr>\n",
              "      <th>count</th>\n",
              "      <td>34857.000000</td>\n",
              "      <td>2.724700e+04</td>\n",
              "      <td>34856.000000</td>\n",
              "      <td>34856.000000</td>\n",
              "      <td>26631.000000</td>\n",
              "      <td>26129.000000</td>\n",
              "      <td>23047.000000</td>\n",
              "      <td>13742.00000</td>\n",
              "      <td>15551.000000</td>\n",
              "      <td>26881.000000</td>\n",
              "      <td>26881.000000</td>\n",
              "      <td>34854.000000</td>\n",
              "    </tr>\n",
              "    <tr>\n",
              "      <th>mean</th>\n",
              "      <td>3.031012</td>\n",
              "      <td>1.050173e+06</td>\n",
              "      <td>11.184929</td>\n",
              "      <td>3116.062859</td>\n",
              "      <td>1.624798</td>\n",
              "      <td>1.728845</td>\n",
              "      <td>593.598993</td>\n",
              "      <td>160.25640</td>\n",
              "      <td>1965.289885</td>\n",
              "      <td>-37.810634</td>\n",
              "      <td>145.001851</td>\n",
              "      <td>7572.888306</td>\n",
              "    </tr>\n",
              "    <tr>\n",
              "      <th>std</th>\n",
              "      <td>0.969933</td>\n",
              "      <td>6.414671e+05</td>\n",
              "      <td>6.788892</td>\n",
              "      <td>109.023903</td>\n",
              "      <td>0.724212</td>\n",
              "      <td>1.010771</td>\n",
              "      <td>3398.841946</td>\n",
              "      <td>401.26706</td>\n",
              "      <td>37.328178</td>\n",
              "      <td>0.090279</td>\n",
              "      <td>0.120169</td>\n",
              "      <td>4428.090313</td>\n",
              "    </tr>\n",
              "    <tr>\n",
              "      <th>min</th>\n",
              "      <td>1.000000</td>\n",
              "      <td>8.500000e+04</td>\n",
              "      <td>0.000000</td>\n",
              "      <td>3000.000000</td>\n",
              "      <td>0.000000</td>\n",
              "      <td>0.000000</td>\n",
              "      <td>0.000000</td>\n",
              "      <td>0.00000</td>\n",
              "      <td>1196.000000</td>\n",
              "      <td>-38.190430</td>\n",
              "      <td>144.423790</td>\n",
              "      <td>83.000000</td>\n",
              "    </tr>\n",
              "    <tr>\n",
              "      <th>25%</th>\n",
              "      <td>2.000000</td>\n",
              "      <td>6.350000e+05</td>\n",
              "      <td>6.400000</td>\n",
              "      <td>3051.000000</td>\n",
              "      <td>1.000000</td>\n",
              "      <td>1.000000</td>\n",
              "      <td>224.000000</td>\n",
              "      <td>102.00000</td>\n",
              "      <td>1940.000000</td>\n",
              "      <td>-37.862950</td>\n",
              "      <td>144.933500</td>\n",
              "      <td>4385.000000</td>\n",
              "    </tr>\n",
              "    <tr>\n",
              "      <th>50%</th>\n",
              "      <td>3.000000</td>\n",
              "      <td>8.700000e+05</td>\n",
              "      <td>10.300000</td>\n",
              "      <td>3103.000000</td>\n",
              "      <td>2.000000</td>\n",
              "      <td>2.000000</td>\n",
              "      <td>521.000000</td>\n",
              "      <td>136.00000</td>\n",
              "      <td>1970.000000</td>\n",
              "      <td>-37.807600</td>\n",
              "      <td>145.007800</td>\n",
              "      <td>6763.000000</td>\n",
              "    </tr>\n",
              "    <tr>\n",
              "      <th>75%</th>\n",
              "      <td>4.000000</td>\n",
              "      <td>1.295000e+06</td>\n",
              "      <td>14.000000</td>\n",
              "      <td>3156.000000</td>\n",
              "      <td>2.000000</td>\n",
              "      <td>2.000000</td>\n",
              "      <td>670.000000</td>\n",
              "      <td>188.00000</td>\n",
              "      <td>2000.000000</td>\n",
              "      <td>-37.754100</td>\n",
              "      <td>145.071900</td>\n",
              "      <td>10412.000000</td>\n",
              "    </tr>\n",
              "    <tr>\n",
              "      <th>max</th>\n",
              "      <td>16.000000</td>\n",
              "      <td>1.120000e+07</td>\n",
              "      <td>48.100000</td>\n",
              "      <td>3978.000000</td>\n",
              "      <td>12.000000</td>\n",
              "      <td>26.000000</td>\n",
              "      <td>433014.000000</td>\n",
              "      <td>44515.00000</td>\n",
              "      <td>2106.000000</td>\n",
              "      <td>-37.390200</td>\n",
              "      <td>145.526350</td>\n",
              "      <td>21650.000000</td>\n",
              "    </tr>\n",
              "  </tbody>\n",
              "</table>\n",
              "</div>"
            ],
            "text/plain": [
              "              Rooms         Price  ...    Longtitude  Propertycount\n",
              "count  34857.000000  2.724700e+04  ...  26881.000000   34854.000000\n",
              "mean       3.031012  1.050173e+06  ...    145.001851    7572.888306\n",
              "std        0.969933  6.414671e+05  ...      0.120169    4428.090313\n",
              "min        1.000000  8.500000e+04  ...    144.423790      83.000000\n",
              "25%        2.000000  6.350000e+05  ...    144.933500    4385.000000\n",
              "50%        3.000000  8.700000e+05  ...    145.007800    6763.000000\n",
              "75%        4.000000  1.295000e+06  ...    145.071900   10412.000000\n",
              "max       16.000000  1.120000e+07  ...    145.526350   21650.000000\n",
              "\n",
              "[8 rows x 12 columns]"
            ]
          },
          "metadata": {
            "tags": []
          },
          "execution_count": 17
        }
      ]
    },
    {
      "cell_type": "code",
      "metadata": {
        "colab": {
          "base_uri": "https://localhost:8080/",
          "height": 53
        },
        "id": "xqJvkmdxV2PL",
        "outputId": "1af4b1d6-b675-45a8-b128-b14762395709"
      },
      "source": [
        "# BuildingArea와 Landsize가 0인 데이터\n",
        "\n",
        "display(len(df[(df['BuildingArea'] == 0)]),len(df[(df['Landsize'] == 0)]))"
      ],
      "execution_count": 18,
      "outputs": [
        {
          "output_type": "display_data",
          "data": {
            "text/plain": [
              "76"
            ]
          },
          "metadata": {
            "tags": []
          }
        },
        {
          "output_type": "display_data",
          "data": {
            "text/plain": [
              "2437"
            ]
          },
          "metadata": {
            "tags": []
          }
        }
      ]
    },
    {
      "cell_type": "code",
      "metadata": {
        "colab": {
          "base_uri": "https://localhost:8080/",
          "height": 53
        },
        "id": "i_ntFQCsZQq8",
        "outputId": "86cec486-a30c-4b1d-ff33-f00d248e4195"
      },
      "source": [
        "# BuildingArea와 Landsize는 집 크기,토지 크기이기 때문에 0일수가 없음 제거.\n",
        "\n",
        "df=df[~(df['BuildingArea'] == 0)]\n",
        "df=df[~(df['Landsize'] == 0)]\n",
        "display(len(df[(df['BuildingArea'] == 0)]),len(df[(df['Landsize'] == 0)]))"
      ],
      "execution_count": 19,
      "outputs": [
        {
          "output_type": "display_data",
          "data": {
            "text/plain": [
              "0"
            ]
          },
          "metadata": {
            "tags": []
          }
        },
        {
          "output_type": "display_data",
          "data": {
            "text/plain": [
              "0"
            ]
          },
          "metadata": {
            "tags": []
          }
        }
      ]
    },
    {
      "cell_type": "code",
      "metadata": {
        "colab": {
          "base_uri": "https://localhost:8080/"
        },
        "id": "7f-9n0u-Wuej",
        "outputId": "1b463ac8-883f-42be-8916-ae180a23c119"
      },
      "source": [
        "# YearBuilt가 2019년 이후인 데이터\n",
        "\n",
        "len(df[(df['YearBuilt'] >= 2019)])"
      ],
      "execution_count": 20,
      "outputs": [
        {
          "output_type": "execute_result",
          "data": {
            "text/plain": [
              "2"
            ]
          },
          "metadata": {
            "tags": []
          },
          "execution_count": 20
        }
      ]
    },
    {
      "cell_type": "code",
      "metadata": {
        "colab": {
          "base_uri": "https://localhost:8080/"
        },
        "id": "HyWRyj5laaKz",
        "outputId": "bb455384-f62e-4d4f-8b3f-2a6013cd66d4"
      },
      "source": [
        "# 2018년까지의 데이터이기 때문에 YearBuilt가 2019년 이후인 데이터가 존재 할 수 없음 제거.\n",
        "\n",
        "df=df[~(df['YearBuilt'] >= 2019)]\n",
        "len(df[(df['YearBuilt'] >= 2019)])"
      ],
      "execution_count": 21,
      "outputs": [
        {
          "output_type": "execute_result",
          "data": {
            "text/plain": [
              "0"
            ]
          },
          "metadata": {
            "tags": []
          },
          "execution_count": 21
        }
      ]
    },
    {
      "cell_type": "code",
      "metadata": {
        "id": "yLeA_6gejTti"
      },
      "source": [
        "# reset index\n",
        "df = df.reset_index()"
      ],
      "execution_count": 22,
      "outputs": []
    },
    {
      "cell_type": "code",
      "metadata": {
        "id": "4V_tqtTUE5J2"
      },
      "source": [
        "df=df.drop(axis=1,columns='index')"
      ],
      "execution_count": 23,
      "outputs": []
    },
    {
      "cell_type": "markdown",
      "metadata": {
        "id": "WptqdzeBzFv4"
      },
      "source": [
        "#**2. 전처리**"
      ]
    },
    {
      "cell_type": "markdown",
      "metadata": {
        "id": "d6c_PYfNvbLR"
      },
      "source": [
        "##**2.1. 중복값**"
      ]
    },
    {
      "cell_type": "code",
      "metadata": {
        "colab": {
          "base_uri": "https://localhost:8080/"
        },
        "id": "QKOXeX7hvZ_x",
        "outputId": "42c911a1-d1ba-460d-ad8a-6b062fa8e1d7"
      },
      "source": [
        "# 중복값 확인\n",
        "\n",
        "len(df[df.duplicated()==True]) "
      ],
      "execution_count": 24,
      "outputs": [
        {
          "output_type": "execute_result",
          "data": {
            "text/plain": [
              "1"
            ]
          },
          "metadata": {
            "tags": []
          },
          "execution_count": 24
        }
      ]
    },
    {
      "cell_type": "code",
      "metadata": {
        "colab": {
          "base_uri": "https://localhost:8080/"
        },
        "id": "JwahE6UNe8Gy",
        "outputId": "d4a879c5-a52b-4fa8-b4d0-c0f11e2c3dfa"
      },
      "source": [
        "# 중복값 처리\n",
        "\n",
        "df=df.drop_duplicates()\n",
        "len(df[df.duplicated()==True]) "
      ],
      "execution_count": 25,
      "outputs": [
        {
          "output_type": "execute_result",
          "data": {
            "text/plain": [
              "0"
            ]
          },
          "metadata": {
            "tags": []
          },
          "execution_count": 25
        }
      ]
    },
    {
      "cell_type": "markdown",
      "metadata": {
        "id": "T7Uy6G1rzF3D"
      },
      "source": [
        "##**2.2. 결측치**"
      ]
    },
    {
      "cell_type": "code",
      "metadata": {
        "colab": {
          "base_uri": "https://localhost:8080/"
        },
        "id": "1W-7XxGN0Pbh",
        "outputId": "956e64d6-b1dc-432c-9ee2-371633e92bed"
      },
      "source": [
        "# 결측지 확인\n",
        "\n",
        "df.isnull().sum()"
      ],
      "execution_count": 26,
      "outputs": [
        {
          "output_type": "execute_result",
          "data": {
            "text/plain": [
              "Suburb               0\n",
              "Address              0\n",
              "Rooms                0\n",
              "Type                 0\n",
              "Price             7098\n",
              "Method               0\n",
              "SellerG              0\n",
              "Date                 0\n",
              "Distance             1\n",
              "Postcode             1\n",
              "Bathroom          8226\n",
              "Car               8726\n",
              "Landsize         11790\n",
              "BuildingArea     20005\n",
              "YearBuilt        18472\n",
              "CouncilArea          3\n",
              "Lattitude         7971\n",
              "Longtitude        7971\n",
              "Regionname           3\n",
              "Propertycount        3\n",
              "dtype: int64"
            ]
          },
          "metadata": {
            "tags": []
          },
          "execution_count": 26
        }
      ]
    },
    {
      "cell_type": "code",
      "metadata": {
        "id": "2ymSRGv2z_hC"
      },
      "source": [
        "# 수치형 데이터의 결측지에 중앙값 넣어주기 (평균보다 outlier에 민감하지 않기 때문)\n",
        "\n",
        "df['Price']= df['Price'].fillna(df['Price'].median())\n",
        "df['Distance']= df['Distance'].fillna(df['Distance'].median())\n",
        "df['Landsize']= df['Landsize'].fillna(df['Landsize'].median())\n",
        "df['BuildingArea']= df['BuildingArea'].fillna(df['BuildingArea'].median())\n",
        "df['YearBuilt']= df['YearBuilt'].fillna(df['YearBuilt'].median())\n",
        "df['Lattitude']= df['Lattitude'].fillna(df['Lattitude'].median())\n",
        "df['Longtitude']= df['Longtitude'].fillna(df['Longtitude'].median())"
      ],
      "execution_count": 27,
      "outputs": []
    },
    {
      "cell_type": "code",
      "metadata": {
        "id": "PpcgTJnq3FEq"
      },
      "source": [
        "# 범주형 데이터의 결측지에 최빈값 넣어주기\n",
        "df['Car']= df['Car'].fillna(df['Car'].mode()[0])\n",
        "df['Bathroom']= df['Bathroom'].fillna(df['Bathroom'].mode()[0])\n",
        "df['Postcode']= df['Postcode'].fillna(df['Postcode'].mode()[0])\n",
        "df['CouncilArea']= df['CouncilArea'].fillna(df['CouncilArea'].mode()[0])\n",
        "df['Regionname']= df['Regionname'].fillna(df['Regionname'].mode()[0])\n",
        "df['Propertycount']= df['Propertycount'].fillna(df['Propertycount'].mode()[0])"
      ],
      "execution_count": 28,
      "outputs": []
    },
    {
      "cell_type": "code",
      "metadata": {
        "colab": {
          "base_uri": "https://localhost:8080/"
        },
        "id": "hdnOojlk3WTa",
        "outputId": "fd60e423-90fe-4121-f638-39d4bb0a4d19"
      },
      "source": [
        "# 결측지 처리 후 확인\n",
        "df.isnull().sum()"
      ],
      "execution_count": 29,
      "outputs": [
        {
          "output_type": "execute_result",
          "data": {
            "text/plain": [
              "Suburb           0\n",
              "Address          0\n",
              "Rooms            0\n",
              "Type             0\n",
              "Price            0\n",
              "Method           0\n",
              "SellerG          0\n",
              "Date             0\n",
              "Distance         0\n",
              "Postcode         0\n",
              "Bathroom         0\n",
              "Car              0\n",
              "Landsize         0\n",
              "BuildingArea     0\n",
              "YearBuilt        0\n",
              "CouncilArea      0\n",
              "Lattitude        0\n",
              "Longtitude       0\n",
              "Regionname       0\n",
              "Propertycount    0\n",
              "dtype: int64"
            ]
          },
          "metadata": {
            "tags": []
          },
          "execution_count": 29
        }
      ]
    },
    {
      "cell_type": "code",
      "metadata": {
        "id": "JOnSW4xw3rcq"
      },
      "source": [
        "# 결측지를 처리했으니 Bathroom,Car,YearBuilt 를 integer로 바꾸기\n",
        "\n",
        "df['Bathroom']=df['Bathroom'].astype('int64')\n",
        "df['Car']=df['Car'].astype('int64')\n",
        "df['YearBuilt']=df['YearBuilt'].astype('int64')\n",
        "\n",
        "# Postcode를 object로 바꾸기\n",
        "\n",
        "df['Postcode']= df['Postcode'].astype('object')"
      ],
      "execution_count": 30,
      "outputs": []
    },
    {
      "cell_type": "markdown",
      "metadata": {
        "id": "w20eH2wI3zjR"
      },
      "source": [
        "##**2.3. 타겟분포 정규화**"
      ]
    },
    {
      "cell_type": "code",
      "metadata": {
        "id": "JVWr8V475VHR"
      },
      "source": [
        "# 타겟 정의\n",
        "\n",
        "target='Price'"
      ],
      "execution_count": 31,
      "outputs": []
    },
    {
      "cell_type": "code",
      "metadata": {
        "colab": {
          "base_uri": "https://localhost:8080/",
          "height": 387
        },
        "id": "3Bx8wVE-4XeS",
        "outputId": "413b3fda-a6ac-44ae-a11e-e57d72f38b5d"
      },
      "source": [
        "# 타겟 분포\n",
        "\n",
        "plt.figure(figsize=(10,5))\n",
        "sns.displot(data=df[target]); # 결측지의 median처리로 인해 세로축이 높아 이상하지만 타겟 분포가 right(positively) skewed인걸 확인"
      ],
      "execution_count": 32,
      "outputs": [
        {
          "output_type": "display_data",
          "data": {
            "text/plain": [
              "<Figure size 720x360 with 0 Axes>"
            ]
          },
          "metadata": {
            "tags": []
          }
        },
        {
          "output_type": "display_data",
          "data": {
            "image/png": "[encoded data removed]",
            "text/plain": [
              "<Figure size 360x360 with 1 Axes>"
            ]
          },
          "metadata": {
            "tags": [],
            "needs_background": "light"
          }
        }
      ]
    },
    {
      "cell_type": "code",
      "metadata": {
        "id": "KyyZBU7V9hdA"
      },
      "source": [
        "# 이상치(outlier) 제거\n",
        "\n",
        "df['Price'] = df[df['Price'] < np.percentile(df['Price'], 99.5)]['Price']"
      ],
      "execution_count": 33,
      "outputs": []
    },
    {
      "cell_type": "code",
      "metadata": {
        "colab": {
          "base_uri": "https://localhost:8080/",
          "height": 369
        },
        "id": "YxHhCJmQ7agN",
        "outputId": "e02eb33b-1286-4152-d29c-3c70956cbafc"
      },
      "source": [
        "# 이상치(outlier) 제거 후 타켓 분포\n",
        "\n",
        "sns.displot(data=df[target]); # 아직까지 정규분포가 형성 되지 않음"
      ],
      "execution_count": 34,
      "outputs": [
        {
          "output_type": "display_data",
          "data": {
            "image/png": "[encoded data removed]",
            "text/plain": [
              "<Figure size 360x360 with 1 Axes>"
            ]
          },
          "metadata": {
            "tags": [],
            "needs_background": "light"
          }
        }
      ]
    },
    {
      "cell_type": "code",
      "metadata": {
        "id": "Z88xdH7y-B8G"
      },
      "source": [
        "# 정규분포를 만들기 위해 log 변환\n",
        "\n",
        "df['Price']=np.log1p(df['Price'])"
      ],
      "execution_count": 35,
      "outputs": []
    },
    {
      "cell_type": "code",
      "metadata": {
        "colab": {
          "base_uri": "https://localhost:8080/",
          "height": 369
        },
        "id": "ix2soyiy-E9R",
        "outputId": "9ec4645e-3333-492b-9326-1ede741033c8"
      },
      "source": [
        "# 로그변환 후 타켓 분포\n",
        "\n",
        "sns.displot(data=df[target]); # 전보단 정규분포에 가까워짐."
      ],
      "execution_count": 36,
      "outputs": [
        {
          "output_type": "display_data",
          "data": {
            "image/png": "[encoded data removed]",
            "text/plain": [
              "<Figure size 360x360 with 1 Axes>"
            ]
          },
          "metadata": {
            "tags": [],
            "needs_background": "light"
          }
        }
      ]
    },
    {
      "cell_type": "code",
      "metadata": {
        "colab": {
          "base_uri": "https://localhost:8080/"
        },
        "id": "DIxt-2nSe5kl",
        "outputId": "21c560ae-3666-484c-c4e7-77541555fc30"
      },
      "source": [
        "# 로그 변환 후 타겟값 결측지 확인\n",
        "\n",
        "df[target].isnull().sum() #로그 변환 후 결측지가 생김"
      ],
      "execution_count": 37,
      "outputs": [
        {
          "output_type": "execute_result",
          "data": {
            "text/plain": [
              "162"
            ]
          },
          "metadata": {
            "tags": []
          },
          "execution_count": 37
        }
      ]
    },
    {
      "cell_type": "code",
      "metadata": {
        "colab": {
          "base_uri": "https://localhost:8080/"
        },
        "id": "e0f_m2n9fHQ2",
        "outputId": "29986ad8-89bf-4e38-dfc8-aa1dcc524a4d"
      },
      "source": [
        "# 결측지를 median으로 대체 후 결측지 확인\n",
        "df[target]= df[target].fillna(df[target].median())\n",
        "df[target].isnull().sum()"
      ],
      "execution_count": 38,
      "outputs": [
        {
          "output_type": "execute_result",
          "data": {
            "text/plain": [
              "0"
            ]
          },
          "metadata": {
            "tags": []
          },
          "execution_count": 38
        }
      ]
    },
    {
      "cell_type": "markdown",
      "metadata": {
        "id": "eLH2huFg-pqH"
      },
      "source": [
        "##**2.4. Feature engineering**"
      ]
    },
    {
      "cell_type": "code",
      "metadata": {
        "id": "X3cf06sBf8uL"
      },
      "source": [
        "# 날짜와 관련된 새로운 column들을 만들기 위해 object인 data를 datetime으로 바꾸기\n",
        "df['Date'] = pd.to_datetime(df['Date'])"
      ],
      "execution_count": 39,
      "outputs": []
    },
    {
      "cell_type": "code",
      "metadata": {
        "id": "h503mQcbemH1"
      },
      "source": [
        "# Year과 doy(day of year) 이라는 colunm 생성\n",
        "\n",
        "df['Year'] = df['Date'].dt.year\n",
        "\n",
        "df['doy'] = df['Date'].dt.dayofyear"
      ],
      "execution_count": 40,
      "outputs": []
    },
    {
      "cell_type": "code",
      "metadata": {
        "id": "1xzDec_2ggWU"
      },
      "source": [
        "# doy특성을 이용하여 season이라는 특성 생성\n",
        "\n",
        "spring = range(80, 172)\n",
        "summer = range(172, 264)\n",
        "fall = range(264, 355)\n",
        "#winter = else\n",
        "\n",
        "v=[]\n",
        "for i in df['doy']:\n",
        "\n",
        "  if i in spring:\n",
        "    season='spring'\n",
        "  elif i in summer:\n",
        "    season = 'summer'\n",
        "  elif i in fall:\n",
        "    season = 'fall'\n",
        "  else:\n",
        "    season = 'winter'\n",
        "  v.append(season)  \n",
        "\n",
        "df['season']= pd.Series(v)"
      ],
      "execution_count": 41,
      "outputs": []
    },
    {
      "cell_type": "code",
      "metadata": {
        "colab": {
          "base_uri": "https://localhost:8080/"
        },
        "id": "W7veXCHgiYM7",
        "outputId": "b7d80a78-b871-4c1f-c422-12cf67688295"
      },
      "source": [
        "df.info()"
      ],
      "execution_count": 42,
      "outputs": [
        {
          "output_type": "stream",
          "text": [
            "<class 'pandas.core.frame.DataFrame'>\n",
            "Int64Index: 32341 entries, 0 to 32341\n",
            "Data columns (total 23 columns):\n",
            " #   Column         Non-Null Count  Dtype         \n",
            "---  ------         --------------  -----         \n",
            " 0   Suburb         32341 non-null  object        \n",
            " 1   Address        32341 non-null  object        \n",
            " 2   Rooms          32341 non-null  int64         \n",
            " 3   Type           32341 non-null  object        \n",
            " 4   Price          32341 non-null  float64       \n",
            " 5   Method         32341 non-null  object        \n",
            " 6   SellerG        32341 non-null  object        \n",
            " 7   Date           32341 non-null  datetime64[ns]\n",
            " 8   Distance       32341 non-null  float64       \n",
            " 9   Postcode       32341 non-null  object        \n",
            " 10  Bathroom       32341 non-null  int64         \n",
            " 11  Car            32341 non-null  int64         \n",
            " 12  Landsize       32341 non-null  float64       \n",
            " 13  BuildingArea   32341 non-null  float64       \n",
            " 14  YearBuilt      32341 non-null  int64         \n",
            " 15  CouncilArea    32341 non-null  object        \n",
            " 16  Lattitude      32341 non-null  float64       \n",
            " 17  Longtitude     32341 non-null  float64       \n",
            " 18  Regionname     32341 non-null  object        \n",
            " 19  Propertycount  32341 non-null  float64       \n",
            " 20  Year           32341 non-null  int64         \n",
            " 21  doy            32341 non-null  int64         \n",
            " 22  season         32340 non-null  object        \n",
            "dtypes: datetime64[ns](1), float64(7), int64(6), object(9)\n",
            "memory usage: 5.9+ MB\n"
          ],
          "name": "stdout"
        }
      ]
    },
    {
      "cell_type": "markdown",
      "metadata": {
        "id": "W_MhBbW90xYI"
      },
      "source": [
        "#**3. 시각화**"
      ]
    },
    {
      "cell_type": "markdown",
      "metadata": {
        "id": "cld3Y1-JdN65"
      },
      "source": [
        "##**3.1 Boxplots and histograms**"
      ]
    },
    {
      "cell_type": "code",
      "metadata": {
        "colab": {
          "base_uri": "https://localhost:8080/",
          "height": 1000
        },
        "id": "tNKE8OrF016-",
        "outputId": "726ba32e-9c76-40fd-ecf3-3b004529d7e7"
      },
      "source": [
        "# ordinal 데이터 시각화\n",
        "\n",
        "l= ['Bathroom', 'Rooms', 'Car', 'season', 'Year']\n",
        "for i in l:\n",
        "    plt.figure()\n",
        "    sns.countplot(x=i, data=df)"
      ],
      "execution_count": 43,
      "outputs": [
        {
          "output_type": "display_data",
          "data": {
            "image/png": "[encoded data removed]",
            "text/plain": [
              "<Figure size 432x288 with 1 Axes>"
            ]
          },
          "metadata": {
            "tags": [],
            "needs_background": "light"
          }
        },
        {
          "output_type": "display_data",
          "data": {
            "image/png": "[encoded data removed]",
            "text/plain": [
              "<Figure size 432x288 with 1 Axes>"
            ]
          },
          "metadata": {
            "tags": [],
            "needs_background": "light"
          }
        },
        {
          "output_type": "display_data",
          "data": {
            "image/png": "[encoded data removed]",
            "text/plain": [
              "<Figure size 432x288 with 1 Axes>"
            ]
          },
          "metadata": {
            "tags": [],
            "needs_background": "light"
          }
        },
        {
          "output_type": "display_data",
          "data": {
            "image/png": "[encoded data removed]",
            "text/plain": [
              "<Figure size 432x288 with 1 Axes>"
            ]
          },
          "metadata": {
            "tags": [],
            "needs_background": "light"
          }
        },
        {
          "output_type": "display_data",
          "data": {
            "image/png": "[encoded data removed]",
            "text/plain": [
              "<Figure size 432x288 with 1 Axes>"
            ]
          },
          "metadata": {
            "tags": [],
            "needs_background": "light"
          }
        }
      ]
    },
    {
      "cell_type": "markdown",
      "metadata": {
        "id": "GvUQN7kjp2WA"
      },
      "source": [
        "\n",
        "\n",
        "*   Bathroom은 평균 1~2개가 있다\n",
        "*   Rooms는 평균 2~4개가 있다\n",
        "*   평균 2대의 차를 위한 공간이 있다.\n",
        "*   2017년에 많은 부동산 판매가 이루어졌다.\n",
        "*   여름이나 가을에 더 많은 부동산 판매가 이루어졌다\n",
        "---\n",
        "\n"
      ]
    },
    {
      "cell_type": "code",
      "metadata": {
        "colab": {
          "base_uri": "https://localhost:8080/",
          "height": 910
        },
        "id": "zUxXKAk101_B",
        "outputId": "69defafc-28ef-429c-891a-ad8163fb4647"
      },
      "source": [
        "# 타겟에 영향을 미칠 수있는 feature 확인\n",
        "\n",
        "sns.set_style('darkgrid')\n",
        "f, axes = plt.subplots(2,2, figsize = (15,15))\n",
        "\n",
        "# Plot [0,0]\n",
        "sns.boxplot(data = df, x = 'season', y = 'Price', ax = axes[0, 0])\n",
        "axes[0,0].set_xlabel('Season')\n",
        "axes[0,0].set_ylabel('Price')\n",
        "axes[0,0].set_title('Season & Price')\n",
        "\n",
        "# Plot [0,1]\n",
        "sns.violinplot(data = df, x = 'Year', y = 'Price', ax = axes[0, 1])\n",
        "axes[0,1].set_xlabel('Year')\n",
        "axes[0,1].set_ylabel('Price')\n",
        "axes[0,1].set_title('Year & Price')\n",
        "\n",
        "# Plot [1,0]\n",
        "sns.boxplot(x = 'Type', y = 'Price', data = df, ax = axes[1,0])\n",
        "axes[1,0].set_xlabel('Type')\n",
        "axes[1,0].set_ylabel('Price')\n",
        "axes[1,0].set_title('Type & Price')\n",
        "\n",
        "# Plot [1,1]\n",
        "sns.boxplot(x = 'Rooms', y = 'Price', data = df, ax = axes[1,1])\n",
        "axes[1,1].set_xlabel('Rooms')\n",
        "axes[1,1].set_ylabel('Price')\n",
        "axes[1,1].set_title('Rooms & Price')"
      ],
      "execution_count": 44,
      "outputs": [
        {
          "output_type": "execute_result",
          "data": {
            "text/plain": [
              "Text(0.5, 1.0, 'Rooms & Price')"
            ]
          },
          "metadata": {
            "tags": []
          },
          "execution_count": 44
        },
        {
          "output_type": "display_data",
          "data": {
            "image/png": "[encoded data removed]",
            "text/plain": [
              "<Figure size 1080x1080 with 4 Axes>"
            ]
          },
          "metadata": {
            "tags": []
          }
        }
      ]
    },
    {
      "cell_type": "markdown",
      "metadata": {
        "id": "q-L6C7X6Hc5V"
      },
      "source": [
        "*   season이 부동산 가격에 큰 영향을 미치지 않는다.\n",
        "*   Year도 가격에 큰 영향을 미치지 않는다.\n",
        "*   Type은 h 가 더 비싸고 가격 변동이 더 많은 것처럼 보이는 것처럼 보인다. Type은 부동산 가격에 영향을 미치는 것 같다. \n",
        "*   더 많은 객실에 대해 가격이 약간 선형 적으로 증가하는 것 같다. 영향을 미친다.\n",
        "---\n",
        "\n"
      ]
    },
    {
      "cell_type": "markdown",
      "metadata": {
        "id": "y5gFtndfdlR1"
      },
      "source": [
        "##**3.2 Correlation matrix**"
      ]
    },
    {
      "cell_type": "code",
      "metadata": {
        "id": "sE_bq1XLEGc5",
        "colab": {
          "base_uri": "https://localhost:8080/",
          "height": 896
        },
        "outputId": "986218c9-7758-4fb4-8139-a0b34a4fa866"
      },
      "source": [
        "# Correlation matrix 만들기\n",
        "\n",
        "attributes= ['Price', 'Distance', 'Bathroom', 'Rooms', 'Car', 'Landsize', 'BuildingArea', 'Lattitude', 'Longtitude', 'YearBuilt',\n",
        "             'Year', 'Propertycount']\n",
        "h= df[attributes]\n",
        "\n",
        "#whitegrid\n",
        "sns.set_style('whitegrid')\n",
        "\n",
        "# Correation matrix 계산하기\n",
        "corr_matrix=h.corr(method='spearman')\n",
        "\n",
        "\n",
        "# 히트맵으로 표현하기\n",
        "plt.figure(figsize=(20,15))\n",
        "\n",
        "# Generate a mask for the upper triangle\n",
        "mask = np.zeros_like(corr_matrix, dtype=np.bool)\n",
        "mask[np.triu_indices_from(mask)] = True\n",
        "\n",
        "# Generate a custom diverging colormap\n",
        "cmap = sns.diverging_palette(220, 10, as_cmap=True)\n",
        "\n",
        "# Draw the heatmap with the mask and correct aspect ratio\n",
        "sns.heatmap(corr_matrix, mask=mask, cmap=cmap, center=0, vmax=1, vmin =-1, annot=True,\n",
        "            square=True, linewidths=.5, cbar_kws={\"shrink\": .5})"
      ],
      "execution_count": 45,
      "outputs": [
        {
          "output_type": "execute_result",
          "data": {
            "text/plain": [
              "<matplotlib.axes._subplots.AxesSubplot at 0x7f2d769bbb50>"
            ]
          },
          "metadata": {
            "tags": []
          },
          "execution_count": 45
        },
        {
          "output_type": "display_data",
          "data": {
            "image/png": "[encoded data removed]",
            "text/plain": [
              "<Figure size 1440x1080 with 2 Axes>"
            ]
          },
          "metadata": {
            "tags": []
          }
        }
      ]
    },
    {
      "cell_type": "markdown",
      "metadata": {
        "id": "YDBG75WUaYKa"
      },
      "source": [
        "Price와 다른 변수들관의 관계\n",
        "\n",
        "* Rooms(.37)가 가장 높은 correaltion을 가지고 있다.\n",
        "* Bathroom(.26), BuildingArea(.22)도 높은 correlation을 가지고 있다.\n",
        "* Distance(-.24)와 Lattitude(-.024)가 가장 낮은 correlation을 가지고 있다.\n",
        "* correlation이 0에 가까운 feature들은 price에 영향이 거의 없다고 볼 수 있다.\n",
        "\n",
        "\n",
        "---\n",
        "\n",
        "\n",
        "\n"
      ]
    },
    {
      "cell_type": "markdown",
      "metadata": {
        "id": "tg1hzsJOdA42"
      },
      "source": [
        "#**4. 머신러닝**"
      ]
    },
    {
      "cell_type": "markdown",
      "metadata": {
        "id": "SEo37bjb5r6v"
      },
      "source": [
        "##**4.1 모델 학습 및 베이스라인모델과 성능 비교**"
      ]
    },
    {
      "cell_type": "code",
      "metadata": {
        "colab": {
          "base_uri": "https://localhost:8080/"
        },
        "id": "ghsqQIXPeKK2",
        "outputId": "d763a0cb-6052-43d0-f1a3-9af2fc622d68"
      },
      "source": [
        "df.info()"
      ],
      "execution_count": 46,
      "outputs": [
        {
          "output_type": "stream",
          "text": [
            "<class 'pandas.core.frame.DataFrame'>\n",
            "Int64Index: 32341 entries, 0 to 32341\n",
            "Data columns (total 23 columns):\n",
            " #   Column         Non-Null Count  Dtype         \n",
            "---  ------         --------------  -----         \n",
            " 0   Suburb         32341 non-null  object        \n",
            " 1   Address        32341 non-null  object        \n",
            " 2   Rooms          32341 non-null  int64         \n",
            " 3   Type           32341 non-null  object        \n",
            " 4   Price          32341 non-null  float64       \n",
            " 5   Method         32341 non-null  object        \n",
            " 6   SellerG        32341 non-null  object        \n",
            " 7   Date           32341 non-null  datetime64[ns]\n",
            " 8   Distance       32341 non-null  float64       \n",
            " 9   Postcode       32341 non-null  object        \n",
            " 10  Bathroom       32341 non-null  int64         \n",
            " 11  Car            32341 non-null  int64         \n",
            " 12  Landsize       32341 non-null  float64       \n",
            " 13  BuildingArea   32341 non-null  float64       \n",
            " 14  YearBuilt      32341 non-null  int64         \n",
            " 15  CouncilArea    32341 non-null  object        \n",
            " 16  Lattitude      32341 non-null  float64       \n",
            " 17  Longtitude     32341 non-null  float64       \n",
            " 18  Regionname     32341 non-null  object        \n",
            " 19  Propertycount  32341 non-null  float64       \n",
            " 20  Year           32341 non-null  int64         \n",
            " 21  doy            32341 non-null  int64         \n",
            " 22  season         32340 non-null  object        \n",
            "dtypes: datetime64[ns](1), float64(7), int64(6), object(9)\n",
            "memory usage: 7.2+ MB\n"
          ],
          "name": "stdout"
        }
      ]
    },
    {
      "cell_type": "code",
      "metadata": {
        "id": "rNUu_7iaeLKk"
      },
      "source": [
        "# Price에 전혀 영향을 미치지 않다고 생각하는 feature들 드랍시키기\n",
        "\n",
        "# 교외이름,주소,판매방법,에이전트,날짜,우편주소,관청이 있는 지역, 판매 날짜, day of year\n",
        "\n",
        "df= df.drop(['Suburb', 'Address', 'Method', 'SellerG', 'Date', 'Postcode', 'CouncilArea', 'doy'], axis=1)"
      ],
      "execution_count": 47,
      "outputs": []
    },
    {
      "cell_type": "code",
      "metadata": {
        "colab": {
          "base_uri": "https://localhost:8080/"
        },
        "id": "i9eaJpcliv5V",
        "outputId": "2a1223ae-5151-4941-8960-3d822e663424"
      },
      "source": [
        "df.info()"
      ],
      "execution_count": 48,
      "outputs": [
        {
          "output_type": "stream",
          "text": [
            "<class 'pandas.core.frame.DataFrame'>\n",
            "Int64Index: 32341 entries, 0 to 32341\n",
            "Data columns (total 15 columns):\n",
            " #   Column         Non-Null Count  Dtype  \n",
            "---  ------         --------------  -----  \n",
            " 0   Rooms          32341 non-null  int64  \n",
            " 1   Type           32341 non-null  object \n",
            " 2   Price          32341 non-null  float64\n",
            " 3   Distance       32341 non-null  float64\n",
            " 4   Bathroom       32341 non-null  int64  \n",
            " 5   Car            32341 non-null  int64  \n",
            " 6   Landsize       32341 non-null  float64\n",
            " 7   BuildingArea   32341 non-null  float64\n",
            " 8   YearBuilt      32341 non-null  int64  \n",
            " 9   Lattitude      32341 non-null  float64\n",
            " 10  Longtitude     32341 non-null  float64\n",
            " 11  Regionname     32341 non-null  object \n",
            " 12  Propertycount  32341 non-null  float64\n",
            " 13  Year           32341 non-null  int64  \n",
            " 14  season         32340 non-null  object \n",
            "dtypes: float64(7), int64(5), object(3)\n",
            "memory usage: 5.2+ MB\n"
          ],
          "name": "stdout"
        }
      ]
    },
    {
      "cell_type": "code",
      "metadata": {
        "colab": {
          "base_uri": "https://localhost:8080/"
        },
        "id": "jX2kT0lrlmpJ",
        "outputId": "0fb04c00-b6ee-4b84-e265-7a02fab0c49a"
      },
      "source": [
        "# 범주형 데이터를 onehot encoding\n",
        "\n",
        "hD= pd.get_dummies(df, columns= ['Type', 'Regionname', 'season'])\n",
        "hD_columns=hD.columns\n",
        "hD.info(),hD_columns"
      ],
      "execution_count": 49,
      "outputs": [
        {
          "output_type": "stream",
          "text": [
            "<class 'pandas.core.frame.DataFrame'>\n",
            "Int64Index: 32341 entries, 0 to 32341\n",
            "Data columns (total 27 columns):\n",
            " #   Column                                 Non-Null Count  Dtype  \n",
            "---  ------                                 --------------  -----  \n",
            " 0   Rooms                                  32341 non-null  int64  \n",
            " 1   Price                                  32341 non-null  float64\n",
            " 2   Distance                               32341 non-null  float64\n",
            " 3   Bathroom                               32341 non-null  int64  \n",
            " 4   Car                                    32341 non-null  int64  \n",
            " 5   Landsize                               32341 non-null  float64\n",
            " 6   BuildingArea                           32341 non-null  float64\n",
            " 7   YearBuilt                              32341 non-null  int64  \n",
            " 8   Lattitude                              32341 non-null  float64\n",
            " 9   Longtitude                             32341 non-null  float64\n",
            " 10  Propertycount                          32341 non-null  float64\n",
            " 11  Year                                   32341 non-null  int64  \n",
            " 12  Type_h                                 32341 non-null  uint8  \n",
            " 13  Type_t                                 32341 non-null  uint8  \n",
            " 14  Type_u                                 32341 non-null  uint8  \n",
            " 15  Regionname_Eastern Metropolitan        32341 non-null  uint8  \n",
            " 16  Regionname_Eastern Victoria            32341 non-null  uint8  \n",
            " 17  Regionname_Northern Metropolitan       32341 non-null  uint8  \n",
            " 18  Regionname_Northern Victoria           32341 non-null  uint8  \n",
            " 19  Regionname_South-Eastern Metropolitan  32341 non-null  uint8  \n",
            " 20  Regionname_Southern Metropolitan       32341 non-null  uint8  \n",
            " 21  Regionname_Western Metropolitan        32341 non-null  uint8  \n",
            " 22  Regionname_Western Victoria            32341 non-null  uint8  \n",
            " 23  season_fall                            32341 non-null  uint8  \n",
            " 24  season_spring                          32341 non-null  uint8  \n",
            " 25  season_summer                          32341 non-null  uint8  \n",
            " 26  season_winter                          32341 non-null  uint8  \n",
            "dtypes: float64(7), int64(5), uint8(15)\n",
            "memory usage: 4.9 MB\n"
          ],
          "name": "stdout"
        },
        {
          "output_type": "execute_result",
          "data": {
            "text/plain": [
              "(None, Index(['Rooms', 'Price', 'Distance', 'Bathroom', 'Car', 'Landsize',\n",
              "        'BuildingArea', 'YearBuilt', 'Lattitude', 'Longtitude', 'Propertycount',\n",
              "        'Year', 'Type_h', 'Type_t', 'Type_u', 'Regionname_Eastern Metropolitan',\n",
              "        'Regionname_Eastern Victoria', 'Regionname_Northern Metropolitan',\n",
              "        'Regionname_Northern Victoria', 'Regionname_South-Eastern Metropolitan',\n",
              "        'Regionname_Southern Metropolitan', 'Regionname_Western Metropolitan',\n",
              "        'Regionname_Western Victoria', 'season_fall', 'season_spring',\n",
              "        'season_summer', 'season_winter'],\n",
              "       dtype='object'))"
            ]
          },
          "metadata": {
            "tags": []
          },
          "execution_count": 49
        }
      ]
    },
    {
      "cell_type": "code",
      "metadata": {
        "id": "Uo0pHsSGl1_p"
      },
      "source": [
        "# 변수간의 단위차이가 크므로 scaling 하기 (outlier에 덜 민감한 robustscaler 사용)\n",
        "\n",
        "scaler = RobustScaler()\n",
        "hD= scaler.fit_transform(hD)"
      ],
      "execution_count": 50,
      "outputs": []
    },
    {
      "cell_type": "code",
      "metadata": {
        "id": "ELTlHd4Rs4Ek"
      },
      "source": [
        "# 데이터를 나누기 위해 array에서 Dataframe으로 바꾸기\n",
        "\n",
        "hD=pd.DataFrame(data=hD,columns=hD_columns)\n",
        "hD.head()\n",
        "hD_features=hD.drop(axis=1,columns='Price').columns"
      ],
      "execution_count": 51,
      "outputs": []
    },
    {
      "cell_type": "code",
      "metadata": {
        "colab": {
          "base_uri": "https://localhost:8080/"
        },
        "id": "SxkZJx-km6rn",
        "outputId": "a6e7f6f0-706f-41c9-f9af-a8de16dbc761"
      },
      "source": [
        "# 데이터 train,val,test로 나누기\n",
        "\n",
        "train, test = train_test_split(hD, train_size=0.80, test_size=0.20, random_state=2)\n",
        "\n",
        "train.shape, test.shape"
      ],
      "execution_count": 52,
      "outputs": [
        {
          "output_type": "execute_result",
          "data": {
            "text/plain": [
              "((25872, 27), (6469, 27))"
            ]
          },
          "metadata": {
            "tags": []
          },
          "execution_count": 52
        }
      ]
    },
    {
      "cell_type": "code",
      "metadata": {
        "id": "9XbUTbKqnfVL"
      },
      "source": [
        "# featue와 target 으로 나누기\n",
        "\n",
        "features = train.drop(columns=[target]).columns\n",
        "X_train = train[features]\n",
        "y_train = train[target]\n",
        "X_test = test[features]\n",
        "y_test = test[target]"
      ],
      "execution_count": 53,
      "outputs": []
    },
    {
      "cell_type": "markdown",
      "metadata": {
        "id": "5D_m343LwHUi"
      },
      "source": [
        "\n",
        "\n",
        "\n",
        "* **linear regression, decision trees 와 random forest 세 가지 머신러닝 방법을 사용하여 가격을 예측 할 것입니다.**\n",
        "\n",
        "\n",
        "\n",
        "\n",
        "\n",
        "* **평가지표 : RSME**"
      ]
    },
    {
      "cell_type": "code",
      "metadata": {
        "colab": {
          "base_uri": "https://localhost:8080/"
        },
        "id": "BHUxlB2dvH46",
        "outputId": "e01f92d1-3b55-48b3-dd97-5c00372d96b4"
      },
      "source": [
        "# fitdecision trees\n",
        "tree = DecisionTreeRegressor()\n",
        "tree.fit(X_train, y_train)\n",
        "\n",
        "# fit random forest\n",
        "forest = RandomForestRegressor(n_jobs=-1)\n",
        "forest.fit(X_train, y_train)\n",
        "\n",
        "# fit regression\n",
        "lin_reg = LinearRegression(n_jobs=-1)\n",
        "lin_reg.fit(X_train, y_train)"
      ],
      "execution_count": 54,
      "outputs": [
        {
          "output_type": "execute_result",
          "data": {
            "text/plain": [
              "LinearRegression(copy_X=True, fit_intercept=True, n_jobs=-1, normalize=False)"
            ]
          },
          "metadata": {
            "tags": []
          },
          "execution_count": 54
        }
      ]
    },
    {
      "cell_type": "code",
      "metadata": {
        "colab": {
          "base_uri": "https://localhost:8080/"
        },
        "id": "QVwS2yMX1qTw",
        "outputId": "533d75c9-cfe8-4882-b541-a8bc39a7868d"
      },
      "source": [
        "# 세 모델의 RMSE 출력\n",
        "\n",
        "models= [('lin_reg', lin_reg), ('random forest', forest), ('decision tree', tree)]\n",
        "from sklearn.metrics import mean_squared_error\n",
        "for i, model in models:    \n",
        "    predictions = model.predict(X_train)\n",
        "    MSE = mean_squared_error(y_train, predictions)\n",
        "    RMSE = np.sqrt(MSE)\n",
        "    msg = \"%s = %.2f\" % (i, round(RMSE, 2))\n",
        "    print('RMSE of', msg)"
      ],
      "execution_count": 55,
      "outputs": [
        {
          "output_type": "stream",
          "text": [
            "RMSE of lin_reg = 0.64\n",
            "RMSE of random forest = 0.26\n",
            "RMSE of decision tree = 0.16\n"
          ],
          "name": "stdout"
        }
      ]
    },
    {
      "cell_type": "code",
      "metadata": {
        "colab": {
          "base_uri": "https://localhost:8080/"
        },
        "id": "HKcRkRwW2jw-",
        "outputId": "dd622b2a-a978-48d4-c19f-dab2e5b376a6"
      },
      "source": [
        "# 베이스라인 모델의 RMSE 출력\n",
        "\n",
        "y= hD[target]\n",
        "predict = y.mean()\n",
        "y_pred = [predict] * len(y)\n",
        "MSE = mean_squared_error(y, y_pred)\n",
        "RMSE = np.sqrt(MSE)\n",
        "msg = \"%s = %.2f\" % ('Baseline', round(RMSE, 2))\n",
        "print('RMSE of', msg)"
      ],
      "execution_count": 56,
      "outputs": [
        {
          "output_type": "stream",
          "text": [
            "RMSE of Baseline = 0.88\n"
          ],
          "name": "stdout"
        }
      ]
    },
    {
      "cell_type": "code",
      "metadata": {
        "colab": {
          "base_uri": "https://localhost:8080/"
        },
        "id": "fu64EGZkxG3j",
        "outputId": "b180a515-cc1d-4a03-b380-f189c7ae17a9"
      },
      "source": [
        "# 세 모델의 정확도 구하기\n",
        "\n",
        "models= [('lin_reg', lin_reg), ('random forest', forest), ('decision tree', tree)]\n",
        "\n",
        "from sklearn.metrics import mean_absolute_error\n",
        "for i, model in models:\n",
        "    scores = model.score(X_train,y_train)\n",
        "    print('Accuracy of Train set',i,scores)"
      ],
      "execution_count": 57,
      "outputs": [
        {
          "output_type": "stream",
          "text": [
            "Accuracy of Train set lin_reg 0.4809067519003512\n",
            "Accuracy of Train set random forest 0.916762765846532\n",
            "Accuracy of Train set decision tree 0.9676769583249992\n"
          ],
          "name": "stdout"
        }
      ]
    },
    {
      "cell_type": "markdown",
      "metadata": {
        "id": "XQrONU3Q495d"
      },
      "source": [
        "* **3가지 모델이 베이스라인보다 RMSE가 월등히 낮으므로 성능이 좋다.**\n",
        "\n",
        "* **Random Forest 모델이 RMSE도 가장 낮고 정확도도 과적합하지 않으면서 가장 성능이 좋은 것 같다**\n",
        "\n",
        "* **위 결과로만 어떤 모델이 확실히 성능이 더 좋다고 말 할 수 없음. 모델의 성능을 더 잘 이해하기 위해 교차 검증 사용**\n"
      ]
    },
    {
      "cell_type": "markdown",
      "metadata": {
        "id": "z7fGEenF6C8n"
      },
      "source": [
        "##**4.2 교차 검증**"
      ]
    },
    {
      "cell_type": "code",
      "metadata": {
        "id": "2RPA5OUw3xB9"
      },
      "source": [
        "models= [('lin_reg', lin_reg), ('random forest', forest), ('decision tree', tree)]"
      ],
      "execution_count": 58,
      "outputs": []
    },
    {
      "cell_type": "code",
      "metadata": {
        "id": "-lRAmxjjQF4M"
      },
      "source": [
        "results= []\n",
        "metric= []\n",
        "for name, model in models:\n",
        "  scores = cross_validate(model, X_train, y_train, scoring='neg_mean_squared_error', cv=5)\n",
        "  results.append(scores)"
      ],
      "execution_count": 59,
      "outputs": []
    },
    {
      "cell_type": "code",
      "metadata": {
        "colab": {
          "base_uri": "https://localhost:8080/"
        },
        "id": "s5d3Y9IRTbvo",
        "outputId": "b986e9ee-5dab-4731-9bef-1ae48d358db7"
      },
      "source": [
        "results"
      ],
      "execution_count": 60,
      "outputs": [
        {
          "output_type": "execute_result",
          "data": {
            "text/plain": [
              "[{'fit_time': array([0.02439237, 0.02562141, 0.02636695, 0.02525234, 0.02578187]),\n",
              "  'score_time': array([0.00248241, 0.0023632 , 0.00232387, 0.00231123, 0.00227785]),\n",
              "  'test_score': array([-0.40095351, -0.41618578, -0.48213366, -0.40598666, -0.4027137 ])},\n",
              " {'fit_time': array([11.85269213, 10.90300894, 10.59574723, 10.55372953, 10.59850597]),\n",
              "  'score_time': array([0.20458174, 0.20399618, 0.20400834, 0.20418215, 0.20403385]),\n",
              "  'test_score': array([-0.33967482, -0.33480295, -0.34386714, -0.33728154, -0.33125427])},\n",
              " {'fit_time': array([0.20573664, 0.20081735, 0.20347142, 0.20699906, 0.21258855]),\n",
              "  'score_time': array([0.00352359, 0.00381684, 0.00366473, 0.00407743, 0.00421834]),\n",
              "  'test_score': array([-0.5737323 , -0.58574871, -0.58736073, -0.60267217, -0.56772685])}]"
            ]
          },
          "metadata": {
            "tags": []
          },
          "execution_count": 60
        }
      ]
    },
    {
      "cell_type": "code",
      "metadata": {
        "id": "TbG4qJz5Upp8"
      },
      "source": [
        "#Linear regression\n",
        "LR_RMSE_mean = np.sqrt(-results[0]['test_score'].mean())\n",
        "LR_RMSE_std= results[0]['test_score'].std()\n",
        "\n",
        "#RandomForest\n",
        "RF_RMSE_mean = np.sqrt(-results[1]['test_score'].mean())\n",
        "RF_RMSE_std= results[1]['test_score'].std()\n",
        "\n",
        "#DecisionTree\n",
        "DT_RMSE_mean = np.sqrt(-results[2]['test_score'].mean())\n",
        "DT_RMSE_std= results[2]['test_score'].std()"
      ],
      "execution_count": 61,
      "outputs": []
    },
    {
      "cell_type": "code",
      "metadata": {
        "colab": {
          "base_uri": "https://localhost:8080/",
          "height": 137
        },
        "id": "p6CAr2pmUs5J",
        "outputId": "2a89b45b-9da0-4c8f-d9fa-e1202cf4d775"
      },
      "source": [
        "modelDF = pd.DataFrame({\n",
        "    'Model'       : ['Linear Regression', 'Random Forest', 'Decision Trees'],\n",
        "    'RMSE_mean'    : [LR_RMSE_mean, RF_RMSE_mean, DT_RMSE_mean],\n",
        "    'RMSE_std'    : [LR_RMSE_std, RF_RMSE_std, DT_RMSE_std],\n",
        "        }, columns = ['Model', 'RMSE_mean', 'RMSE_std'])\n",
        "\n",
        "modelDF"
      ],
      "execution_count": 62,
      "outputs": [
        {
          "output_type": "execute_result",
          "data": {
            "text/html": [
              "<div>\n",
              "<style scoped>\n",
              "    .dataframe tbody tr th:only-of-type {\n",
              "        vertical-align: middle;\n",
              "    }\n",
              "\n",
              "    .dataframe tbody tr th {\n",
              "        vertical-align: top;\n",
              "    }\n",
              "\n",
              "    .dataframe thead th {\n",
              "        text-align: right;\n",
              "    }\n",
              "</style>\n",
              "<table border=\"1\" class=\"dataframe\">\n",
              "  <thead>\n",
              "    <tr style=\"text-align: right;\">\n",
              "      <th></th>\n",
              "      <th>Model</th>\n",
              "      <th>RMSE_mean</th>\n",
              "      <th>RMSE_std</th>\n",
              "    </tr>\n",
              "  </thead>\n",
              "  <tbody>\n",
              "    <tr>\n",
              "      <th>0</th>\n",
              "      <td>Linear Regression</td>\n",
              "      <td>0.649303</td>\n",
              "      <td>0.030726</td>\n",
              "    </tr>\n",
              "    <tr>\n",
              "      <th>1</th>\n",
              "      <td>Random Forest</td>\n",
              "      <td>0.580841</td>\n",
              "      <td>0.004278</td>\n",
              "    </tr>\n",
              "    <tr>\n",
              "      <th>2</th>\n",
              "      <td>Decision Trees</td>\n",
              "      <td>0.763838</td>\n",
              "      <td>0.012097</td>\n",
              "    </tr>\n",
              "  </tbody>\n",
              "</table>\n",
              "</div>"
            ],
            "text/plain": [
              "               Model  RMSE_mean  RMSE_std\n",
              "0  Linear Regression   0.649303  0.030726\n",
              "1      Random Forest   0.580841  0.004278\n",
              "2     Decision Trees   0.763838  0.012097"
            ]
          },
          "metadata": {
            "tags": []
          },
          "execution_count": 62
        }
      ]
    },
    {
      "cell_type": "code",
      "metadata": {
        "colab": {
          "base_uri": "https://localhost:8080/",
          "height": 859
        },
        "id": "aWnZ6TB6UwYE",
        "outputId": "e7dacd35-8877-42d4-88bd-3f7a2cc4b8be"
      },
      "source": [
        "sns.factorplot(x= 'Model', y= 'RMSE_mean', data= modelDF, kind='bar', legend='True')\n",
        "sns.factorplot(x= 'Model', y= 'RMSE_std', data= modelDF, kind='bar', legend='True')"
      ],
      "execution_count": 63,
      "outputs": [
        {
          "output_type": "stream",
          "text": [
            "/usr/local/lib/python3.7/dist-packages/seaborn/categorical.py:3714: UserWarning: The `factorplot` function has been renamed to `catplot`. The original name will be removed in a future release. Please update your code. Note that the default `kind` in `factorplot` (`'point'`) has changed `'strip'` in `catplot`.\n",
            "  warnings.warn(msg)\n",
            "/usr/local/lib/python3.7/dist-packages/seaborn/categorical.py:3714: UserWarning: The `factorplot` function has been renamed to `catplot`. The original name will be removed in a future release. Please update your code. Note that the default `kind` in `factorplot` (`'point'`) has changed `'strip'` in `catplot`.\n",
            "  warnings.warn(msg)\n"
          ],
          "name": "stderr"
        },
        {
          "output_type": "execute_result",
          "data": {
            "text/plain": [
              "<seaborn.axisgrid.FacetGrid at 0x7f2d76971e10>"
            ]
          },
          "metadata": {
            "tags": []
          },
          "execution_count": 63
        },
        {
          "output_type": "display_data",
          "data": {
            "image/png": "[encoded data removed]",
            "text/plain": [
              "<Figure size 360x360 with 1 Axes>"
            ]
          },
          "metadata": {
            "tags": []
          }
        },
        {
          "output_type": "display_data",
          "data": {
            "image/png": "[encoded data removed]",
            "text/plain": [
              "<Figure size 360x360 with 1 Axes>"
            ]
          },
          "metadata": {
            "tags": []
          }
        }
      ]
    },
    {
      "cell_type": "markdown",
      "metadata": {
        "id": "sJ5_s2iZ8NYV"
      },
      "source": [
        "* **Cross-validation에서 Random Forest model이 RMSE와 RMSE_std가 낮음 - 더 좋은 성능**\n",
        "\n",
        "* **hold-out 교차검증과 Cross-validation 두 검증 모두에서 RandomForest모델이 더 좋은 성능을 보임**\n",
        "\n",
        "* **RandomFrest 모델을 이용하여 하이퍼파라미터 적용**"
      ]
    },
    {
      "cell_type": "markdown",
      "metadata": {
        "id": "cTjC32uU92MJ"
      },
      "source": [
        "##**4.3 Randomized search**"
      ]
    },
    {
      "cell_type": "markdown",
      "metadata": {
        "id": "GtMwBEgX-WaA"
      },
      "source": [
        "Random Forest의 가장 중요한 하이퍼 파라미터:\n",
        "\n",
        "\n",
        "* n_estimators = n of trees\n",
        "* max_features = max number of features considered for splitting a node\n",
        "* max_depth = max number of levels in each decision tree\n",
        "* min_samples_split = min number of data points placed in a node before the node is split"
      ]
    },
    {
      "cell_type": "code",
      "metadata": {
        "id": "u7DG0GmLb7bI"
      },
      "source": [
        "from sklearn.model_selection import RandomizedSearchCV\n",
        "from scipy.stats import randint, uniform"
      ],
      "execution_count": 64,
      "outputs": []
    },
    {
      "cell_type": "code",
      "metadata": {
        "id": "gVMCo1xRBS6o"
      },
      "source": [
        "# 파라미터 범위 조정\n",
        "\n",
        "n_estimators = [int(x) for x in np.linspace(start = 20, stop = 200, num = 5)]\n",
        "\n",
        "max_features = ['auto', 'sqrt']\n",
        "\n",
        "max_depth = [int(x) for x in np.linspace(1, 45, num = 3)]\n",
        "\n",
        "min_samples_split = [5, 10]\n",
        "\n",
        "dists  = {'n_estimators': n_estimators,\n",
        "               'max_features': max_features,\n",
        "               'max_depth': max_depth,\n",
        "               'min_samples_split': min_samples_split}\n"
      ],
      "execution_count": 65,
      "outputs": []
    },
    {
      "cell_type": "code",
      "metadata": {
        "colab": {
          "base_uri": "https://localhost:8080/"
        },
        "id": "Un7ClfQnA_5g",
        "outputId": "0277e83e-7d44-4e73-eef9-54ac34c7346b"
      },
      "source": [
        "clf = RandomizedSearchCV(estimator = forest, param_distributions = dists, n_iter = 10, cv = 10, verbose=2, random_state=42, n_jobs = -1, scoring='neg_mean_squared_error')\n",
        "\n",
        "# 학습하기\n",
        "clf.fit(X_train, y_train)"
      ],
      "execution_count": 66,
      "outputs": [
        {
          "output_type": "stream",
          "text": [
            "Fitting 10 folds for each of 10 candidates, totalling 100 fits\n"
          ],
          "name": "stdout"
        },
        {
          "output_type": "stream",
          "text": [
            "[Parallel(n_jobs=-1)]: Using backend LokyBackend with 2 concurrent workers.\n",
            "[Parallel(n_jobs=-1)]: Done  37 tasks      | elapsed:   35.8s\n",
            "[Parallel(n_jobs=-1)]: Done 100 out of 100 | elapsed:  5.4min finished\n"
          ],
          "name": "stderr"
        },
        {
          "output_type": "execute_result",
          "data": {
            "text/plain": [
              "RandomizedSearchCV(cv=10, error_score=nan,\n",
              "                   estimator=RandomForestRegressor(bootstrap=True,\n",
              "                                                   ccp_alpha=0.0,\n",
              "                                                   criterion='mse',\n",
              "                                                   max_depth=None,\n",
              "                                                   max_features='auto',\n",
              "                                                   max_leaf_nodes=None,\n",
              "                                                   max_samples=None,\n",
              "                                                   min_impurity_decrease=0.0,\n",
              "                                                   min_impurity_split=None,\n",
              "                                                   min_samples_leaf=1,\n",
              "                                                   min_samples_split=2,\n",
              "                                                   min_weight_fraction_leaf=0.0,\n",
              "                                                   n_estimators=100, n_jobs=-1,\n",
              "                                                   oob_score=False,\n",
              "                                                   random_state=None, verbose=0,\n",
              "                                                   warm_start=False),\n",
              "                   iid='deprecated', n_iter=10, n_jobs=-1,\n",
              "                   param_distributions={'max_depth': [1, 23, 45],\n",
              "                                        'max_features': ['auto', 'sqrt'],\n",
              "                                        'min_samples_split': [5, 10],\n",
              "                                        'n_estimators': [20, 65, 110, 155,\n",
              "                                                         200]},\n",
              "                   pre_dispatch='2*n_jobs', random_state=42, refit=True,\n",
              "                   return_train_score=False, scoring='neg_mean_squared_error',\n",
              "                   verbose=2)"
            ]
          },
          "metadata": {
            "tags": []
          },
          "execution_count": 66
        }
      ]
    },
    {
      "cell_type": "code",
      "metadata": {
        "colab": {
          "base_uri": "https://localhost:8080/"
        },
        "id": "i4GVDoHtBYxr",
        "outputId": "c3f10126-c689-44c0-99a2-5344d7612890"
      },
      "source": [
        "print('최적 하이퍼파라미터: ', clf.best_params_)\n",
        "print('MSE: ', -clf.best_score_)"
      ],
      "execution_count": 67,
      "outputs": [
        {
          "output_type": "stream",
          "text": [
            "최적 하이퍼파라미터:  {'n_estimators': 110, 'min_samples_split': 10, 'max_features': 'sqrt', 'max_depth': 45}\n",
            "MSE:  0.3148617971066622\n"
          ],
          "name": "stdout"
        }
      ]
    },
    {
      "cell_type": "code",
      "metadata": {
        "id": "6gtKdRJqDPzC"
      },
      "source": [
        "# 만들어진 모델에거 가장 성능이 좋은 모델을 불러옵니다.\n",
        "pipe = clf.best_estimator_"
      ],
      "execution_count": 68,
      "outputs": []
    },
    {
      "cell_type": "code",
      "metadata": {
        "colab": {
          "base_uri": "https://localhost:8080/"
        },
        "id": "9TzlneFVDXZ4",
        "outputId": "e6c0a22a-a739-490d-87fa-61ed5d2e2472"
      },
      "source": [
        "# 이제 새 모델의 Accuracy 와 RMSE의 성능 메트릭에 대해 알아 보겠습니다.\n",
        "\n",
        "# Accuracy\n",
        "\n",
        "print('The best model from the randomized search has a Accuracy of',pipe.score(X_train,y_train))"
      ],
      "execution_count": 69,
      "outputs": [
        {
          "output_type": "stream",
          "text": [
            "The best model from the randomized search has a Accuracy of 0.8030505668218678\n"
          ],
          "name": "stdout"
        }
      ]
    },
    {
      "cell_type": "code",
      "metadata": {
        "colab": {
          "base_uri": "https://localhost:8080/"
        },
        "id": "Kgd72_ZzEJt3",
        "outputId": "5ab6951d-028b-4eec-b0bb-deac6b2f76da"
      },
      "source": [
        "# RMSE\n",
        "\n",
        "y_pred = pipe.predict(X_train)\n",
        "mse = mean_squared_error(y_train, y_pred)\n",
        "rmse = np.sqrt(mse)\n",
        "print('The best model from the randomized search has a RMSE of',rmse)"
      ],
      "execution_count": 70,
      "outputs": [
        {
          "output_type": "stream",
          "text": [
            "The best model from the randomized search has a RMSE of 0.39226621144848456\n"
          ],
          "name": "stdout"
        }
      ]
    },
    {
      "cell_type": "markdown",
      "metadata": {
        "id": "81YWEtYvF5dE"
      },
      "source": [
        "##**4.4 Feature importance**"
      ]
    },
    {
      "cell_type": "code",
      "metadata": {
        "colab": {
          "base_uri": "https://localhost:8080/"
        },
        "id": "qYWJ4KeBEdeY",
        "outputId": "7cad0c6e-59b4-46cc-9f5b-be2a290e3e69"
      },
      "source": [
        "# Randomized search에서 중요도 값 추출\n",
        "\n",
        "importances = clf.best_estimator_.feature_importances_\n",
        "\n",
        "\n",
        "# feautre column리스트 만들기 (Price 제외)\n",
        "feature_list = list(hD_features)\n",
        "\n",
        "# 값과 콜론명 합치기\n",
        "feature_importance= sorted(zip(importances, feature_list), reverse=True)\n",
        "\n",
        "# 표로 만들기\n",
        "FI = pd.DataFrame(feature_importance, columns=['importance', 'feature'])\n",
        "importance= list(FI['importance'])\n",
        "feature= list(FI['feature'])\n",
        "\n",
        "print(FI)"
      ],
      "execution_count": 71,
      "outputs": [
        {
          "output_type": "stream",
          "text": [
            "    importance                                feature\n",
            "0     0.131828                               Distance\n",
            "1     0.109815                                  Rooms\n",
            "2     0.101210                              Lattitude\n",
            "3     0.088900       Regionname_Southern Metropolitan\n",
            "4     0.088056                             Longtitude\n",
            "5     0.073860                                 Type_u\n",
            "6     0.060167                                 Type_h\n",
            "7     0.058595                               Landsize\n",
            "8     0.056242                          Propertycount\n",
            "9     0.043500                           BuildingArea\n",
            "10    0.039644                              YearBuilt\n",
            "11    0.037828                               Bathroom\n",
            "12    0.017326        Regionname_Western Metropolitan\n",
            "13    0.015136                                    Car\n",
            "14    0.013987        Regionname_Eastern Metropolitan\n",
            "15    0.013640       Regionname_Northern Metropolitan\n",
            "16    0.012140                                   Year\n",
            "17    0.009530                                 Type_t\n",
            "18    0.005669                          season_spring\n",
            "19    0.005542                            season_fall\n",
            "20    0.005329                          season_summer\n",
            "21    0.004844                          season_winter\n",
            "22    0.003678  Regionname_South-Eastern Metropolitan\n",
            "23    0.001788            Regionname_Western Victoria\n",
            "24    0.000998           Regionname_Northern Victoria\n",
            "25    0.000749            Regionname_Eastern Victoria\n"
          ],
          "name": "stdout"
        }
      ]
    },
    {
      "cell_type": "code",
      "metadata": {
        "colab": {
          "base_uri": "https://localhost:8080/",
          "height": 816
        },
        "id": "4-ICN5cQGB1a",
        "outputId": "c6a0b3ef-941f-428f-eb8b-db1b4d9e2579"
      },
      "source": [
        "# Set the style\n",
        "plt.style.use('bmh')\n",
        "# list of x locations for plotting\n",
        "x_values = list(range(len(feature_importance)))\n",
        "\n",
        "# Make a bar chart\n",
        "plt.figure(figsize=(15,10))\n",
        "plt.bar(x_values, importance, orientation = 'vertical')\n",
        "# Tick labels for x axis\n",
        "plt.xticks(x_values, feature, rotation='vertical')\n",
        "# Axis labels and title\n",
        "plt.ylabel('Importance'); plt.xlabel('Variable'); plt.title('Variable Importances');"
      ],
      "execution_count": 72,
      "outputs": [
        {
          "output_type": "display_data",
          "data": {
            "image/png": "[encoded data removed]",
            "text/plain": [
              "<Figure size 1080x720 with 1 Axes>"
            ]
          },
          "metadata": {
            "tags": []
          }
        }
      ]
    },
    {
      "cell_type": "markdown",
      "metadata": {
        "id": "rqEJ8GG2JCLV"
      },
      "source": [
        "**Feature importance 결과:**\n",
        "* distance가 가장 높음\n",
        "* 그 다음으로는 Rooms,Lattitude,Regioname_southem Metropolitan, Longtite 순으로 중요도가 높습니다.\n",
        "* Regioname_southem Metropolitan은 Regionmame에서 원핫인코딩으로 나온 피처입니다\n",
        "* season이나 year는 영향이 거의 없습니다.\n",
        "* 전체적으로 집의 크기나 집의 위치가 Price에 영향을 많이 줍니다."
      ]
    },
    {
      "cell_type": "markdown",
      "metadata": {
        "id": "3_s4spMyMAYv"
      },
      "source": [
        "##**4.4 최상의 모델과 이전 세 모델의 비교 및 평가**"
      ]
    },
    {
      "cell_type": "code",
      "metadata": {
        "colab": {
          "base_uri": "https://localhost:8080/"
        },
        "id": "x6BN3cClYmCB",
        "outputId": "2c516477-4f63-4f4a-f757-d5add5571ea4"
      },
      "source": [
        "# RMSE\n",
        "\n",
        "models= [('lin_reg', lin_reg), ('random forest', forest), ('decision tree', tree)]\n",
        "from sklearn.metrics import mean_squared_error\n",
        "for i, model in models:    \n",
        "    predictions = model.predict(X_test)\n",
        "    MSE = mean_squared_error(y_test, predictions)\n",
        "    RMSE = np.sqrt(MSE)\n",
        "    msg = \"%s = %.2f\" % (i, round(RMSE, 2))\n",
        "    print('RMSE of', msg)"
      ],
      "execution_count": 73,
      "outputs": [
        {
          "output_type": "stream",
          "text": [
            "RMSE of lin_reg = 0.63\n",
            "RMSE of random forest = 0.58\n",
            "RMSE of decision tree = 0.77\n"
          ],
          "name": "stdout"
        }
      ]
    },
    {
      "cell_type": "code",
      "metadata": {
        "colab": {
          "base_uri": "https://localhost:8080/"
        },
        "id": "5tKx8fLqMMLY",
        "outputId": "086f0668-d026-4993-8fa4-4d4334d6a843"
      },
      "source": [
        "\n",
        "final_model = clf.best_estimator_\n",
        "# Predicting test set results\n",
        "final_pred = final_model.predict(X_test)\n",
        "final_mse = mean_squared_error(y_test, final_pred)\n",
        "final_rmse = np.sqrt(final_mse)\n",
        "print('The final RMSE on the test set is', round(final_rmse, 2))"
      ],
      "execution_count": 74,
      "outputs": [
        {
          "output_type": "stream",
          "text": [
            "The final RMSE on the test set is 0.56\n"
          ],
          "name": "stdout"
        }
      ]
    },
    {
      "cell_type": "markdown",
      "metadata": {
        "id": "IZbidHFHYr_L"
      },
      "source": [
        "* **최상의 모델에서 RMSE가 가장 작아짐 - 성능이 높아졌다.**\n",
        "\n",
        "\n",
        "---\n",
        "\n"
      ]
    },
    {
      "cell_type": "code",
      "metadata": {
        "colab": {
          "base_uri": "https://localhost:8080/"
        },
        "id": "kyFMLBmIY8Dm",
        "outputId": "3162e69d-564d-45de-e7ba-850d59fcb997"
      },
      "source": [
        "# Train set Accuracy\n",
        "\n",
        "models= [('lin_reg', lin_reg), ('random forest', forest), ('decision tree', tree)]\n",
        "\n",
        "from sklearn.metrics import mean_absolute_error\n",
        "for i, model in models:\n",
        "    scores = model.score(X_train,y_train)\n",
        "    print('Accuracy of Train set',i,scores)"
      ],
      "execution_count": 75,
      "outputs": [
        {
          "output_type": "stream",
          "text": [
            "Accuracy of Train set lin_reg 0.4809067519003512\n",
            "Accuracy of Train set random forest 0.916762765846532\n",
            "Accuracy of Train set decision tree 0.9676769583249992\n"
          ],
          "name": "stdout"
        }
      ]
    },
    {
      "cell_type": "code",
      "metadata": {
        "colab": {
          "base_uri": "https://localhost:8080/"
        },
        "id": "YKwCdgEtY8La",
        "outputId": "58d10c81-dda6-47d5-9fa3-eaead191737d"
      },
      "source": [
        "print(\"Test set Accuracy\",final_model.score(X_train,y_train))"
      ],
      "execution_count": 76,
      "outputs": [
        {
          "output_type": "stream",
          "text": [
            "Test set Accuracy 0.8030505668218678\n"
          ],
          "name": "stdout"
        }
      ]
    },
    {
      "cell_type": "markdown",
      "metadata": {
        "id": "R4sB8dbSZGYX"
      },
      "source": [
        "* **최상의 모델의 train set 정확도가 80%로 내려가 과적합을 피했다.**\n",
        "\n",
        "\n",
        "---\n",
        "\n"
      ]
    },
    {
      "cell_type": "code",
      "metadata": {
        "colab": {
          "base_uri": "https://localhost:8080/"
        },
        "id": "oK_sPrjbYhtL",
        "outputId": "456e663c-0d2a-460c-fc21-62508b22b7ca"
      },
      "source": [
        "# test set Accuracy\n",
        "\n",
        "models= [('lin_reg', lin_reg), ('random forest', forest), ('decision tree', tree)]\n",
        "\n",
        "from sklearn.metrics import mean_absolute_error\n",
        "for i, model in models:\n",
        "    scores = model.score(X_test,y_test)\n",
        "    print('Accuracy of Train set',i,scores)"
      ],
      "execution_count": 77,
      "outputs": [
        {
          "output_type": "stream",
          "text": [
            "Accuracy of Train set lin_reg 0.48832597452415516\n",
            "Accuracy of Train set random forest 0.568167508728866\n",
            "Accuracy of Train set decision tree 0.2318131107710899\n"
          ],
          "name": "stdout"
        }
      ]
    },
    {
      "cell_type": "code",
      "metadata": {
        "colab": {
          "base_uri": "https://localhost:8080/"
        },
        "id": "3AH-bs3VT-AV",
        "outputId": "0ad3d98c-47db-4714-91b1-766013bf9725"
      },
      "source": [
        "# Accuracy\n",
        "\n",
        "Te=final_model.score(X_test,y_test)\n",
        "\n",
        "print(\"Test set Accuracy\",Te)"
      ],
      "execution_count": 78,
      "outputs": [
        {
          "output_type": "stream",
          "text": [
            "Test set Accuracy 0.5976798056988604\n"
          ],
          "name": "stdout"
        }
      ]
    },
    {
      "cell_type": "markdown",
      "metadata": {
        "id": "-RYWKQumTrKb"
      },
      "source": [
        "* **최상의 모델의 Test set의 정확도가 60%로 높지는 않지만 다른 모델들 보다 정확도가 상승했다.**\n",
        "\n",
        "\n",
        "---\n",
        "\n"
      ]
    },
    {
      "cell_type": "markdown",
      "metadata": {
        "id": "qbpHwFeuSEXM"
      },
      "source": [
        "#**5. 가설검정**"
      ]
    },
    {
      "cell_type": "markdown",
      "metadata": {
        "id": "KoF74k9KcG1l"
      },
      "source": [
        "프로젝트의 가설인 '멜버른 부동산가격은 부동산의 위치보다 부동산의 크기에 더 영향을 받는다'는 기각되지 않는다.\n",
        "\n",
        "부동산의 크기도 집값에 영향을 주지만 전체적으로 부동산의 위치와 관련된 특성이 멜버른의 부동산 가격에 더 영향을 미친다.\n",
        "\n",
        " Ex) distance, Lattitude, Regionname ,Longtitude"
      ]
    }
  ]
}